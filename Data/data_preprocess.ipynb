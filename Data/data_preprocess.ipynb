{
 "cells": [
  {
   "cell_type": "code",
   "execution_count": 6,
   "id": "ffaab5d0-e090-46ed-8abf-7536ad21f03a",
   "metadata": {
    "tags": []
   },
   "outputs": [
    {
     "name": "stdout",
     "output_type": "stream",
     "text": [
      "The CSV file has been successfully converted to JSON: JSON_Data\\UCI_data.json\n"
     ]
    }
   ],
   "source": [
    "import csv\n",
    "import json\n",
    "import re\n",
    "\n",
    "# CSV path\n",
    "csv_file_path = 'Original_Data\\\\UCI_sms_data.csv'\n",
    "# Json path\n",
    "json_Dile_path = 'JSON_Data\\\\UCI_data.json'\n",
    "\n",
    "# Define a simple regex to check for garbled characters\n",
    "# This regular expression assumes that garbled characters do not belong to the common ASCII character set or common Chinese characters\n",
    "garbled_pattern = re.compile(r'[^\\x00-\\x7F]+')\n",
    "\n",
    "# Try reading a CSV file using ISO-8859-1\n",
    "try:\n",
    "    with open(csv_file_path, 'r', encoding='ISO-8859-1') as csv_file:\n",
    "        csv_reader = csv.DictReader(csv_file)\n",
    "        data = []\n",
    "        for row in csv_reader:\n",
    "            # Get the contents of the label and text columns\n",
    "            label = row['Label']\n",
    "            text = row['Text']\n",
    "            \n",
    "            # Check for garbled characters\n",
    "            if garbled_pattern.search(text):\n",
    "                continue  # If there is garbled text, skip this line\n",
    "            \n",
    "            # Determine if label is \"ham\" or \"spam\"\n",
    "            if label not in ['ham', 'spam']:\n",
    "                continue\n",
    "            \n",
    "            # Convert each record to dictionary format\n",
    "            record = {\n",
    "                \"instruction\": \"Classify the following email as 'ham' or 'spam'. You should only answer 'ham' or 'spam'\",\n",
    "                \"input\": text,\n",
    "                \"output\": label\n",
    "            }\n",
    "            data.append(record)\n",
    "\n",
    "    # Write the data to a JSON file\n",
    "    with open(json_file_path, 'w', encoding='utf-8') as json_file:\n",
    "        json.dump(data, json_file, ensure_ascii=False, indent=4)\n",
    "\n",
    "    print(f\"The CSV file has been successfully converted to JSON: {json_file_path}\")\n",
    "\n",
    "except UnicodeDecodeError as e:\n",
    "    print(f\"UnicodeDecodeError occurred while reading the file: {e}\")\n",
    "\n",
    "\n"
   ]
  },
  {
   "cell_type": "code",
   "execution_count": 12,
   "id": "b2ada4f9-2ce7-40d0-83e9-f81e86a4d313",
   "metadata": {
    "tags": []
   },
   "outputs": [
    {
     "ename": "FileNotFoundError",
     "evalue": "[Errno 2] No such file or directory: 'Traning_Data\\\\traning_data_enron.json'",
     "output_type": "error",
     "traceback": [
      "\u001b[1;31m---------------------------------------------------------------------------\u001b[0m",
      "\u001b[1;31mFileNotFoundError\u001b[0m                         Traceback (most recent call last)",
      "Cell \u001b[1;32mIn[12], line 17\u001b[0m\n\u001b[0;32m     14\u001b[0m train_data, test_data \u001b[38;5;241m=\u001b[39m train_test_split(data, test_size\u001b[38;5;241m=\u001b[39m\u001b[38;5;241m0.3\u001b[39m, random_state\u001b[38;5;241m=\u001b[39m\u001b[38;5;241m42\u001b[39m)\n\u001b[0;32m     16\u001b[0m \u001b[38;5;66;03m# 保存训练集\u001b[39;00m\n\u001b[1;32m---> 17\u001b[0m \u001b[38;5;28;01mwith\u001b[39;00m \u001b[38;5;28;43mopen\u001b[39;49m\u001b[43m(\u001b[49m\u001b[43mtrain_json_file_path\u001b[49m\u001b[43m,\u001b[49m\u001b[43m \u001b[49m\u001b[38;5;124;43m'\u001b[39;49m\u001b[38;5;124;43ma\u001b[39;49m\u001b[38;5;124;43m'\u001b[39;49m\u001b[43m,\u001b[49m\u001b[43m \u001b[49m\u001b[43mencoding\u001b[49m\u001b[38;5;241;43m=\u001b[39;49m\u001b[38;5;124;43m'\u001b[39;49m\u001b[38;5;124;43mutf-8\u001b[39;49m\u001b[38;5;124;43m'\u001b[39;49m\u001b[43m)\u001b[49m \u001b[38;5;28;01mas\u001b[39;00m train_file:\n\u001b[0;32m     18\u001b[0m     json\u001b[38;5;241m.\u001b[39mdump(train_data, train_file, ensure_ascii\u001b[38;5;241m=\u001b[39m\u001b[38;5;28;01mFalse\u001b[39;00m, indent\u001b[38;5;241m=\u001b[39m\u001b[38;5;241m4\u001b[39m)\n\u001b[0;32m     20\u001b[0m \u001b[38;5;66;03m# 保存测试集\u001b[39;00m\n",
      "File \u001b[1;32mc:\\Users\\76922\\anaconda3\\envs\\dissertation\\Lib\\site-packages\\IPython\\core\\interactiveshell.py:324\u001b[0m, in \u001b[0;36m_modified_open\u001b[1;34m(file, *args, **kwargs)\u001b[0m\n\u001b[0;32m    317\u001b[0m \u001b[38;5;28;01mif\u001b[39;00m file \u001b[38;5;129;01min\u001b[39;00m {\u001b[38;5;241m0\u001b[39m, \u001b[38;5;241m1\u001b[39m, \u001b[38;5;241m2\u001b[39m}:\n\u001b[0;32m    318\u001b[0m     \u001b[38;5;28;01mraise\u001b[39;00m \u001b[38;5;167;01mValueError\u001b[39;00m(\n\u001b[0;32m    319\u001b[0m         \u001b[38;5;124mf\u001b[39m\u001b[38;5;124m\"\u001b[39m\u001b[38;5;124mIPython won\u001b[39m\u001b[38;5;124m'\u001b[39m\u001b[38;5;124mt let you open fd=\u001b[39m\u001b[38;5;132;01m{\u001b[39;00mfile\u001b[38;5;132;01m}\u001b[39;00m\u001b[38;5;124m by default \u001b[39m\u001b[38;5;124m\"\u001b[39m\n\u001b[0;32m    320\u001b[0m         \u001b[38;5;124m\"\u001b[39m\u001b[38;5;124mas it is likely to crash IPython. If you know what you are doing, \u001b[39m\u001b[38;5;124m\"\u001b[39m\n\u001b[0;32m    321\u001b[0m         \u001b[38;5;124m\"\u001b[39m\u001b[38;5;124myou can use builtins\u001b[39m\u001b[38;5;124m'\u001b[39m\u001b[38;5;124m open.\u001b[39m\u001b[38;5;124m\"\u001b[39m\n\u001b[0;32m    322\u001b[0m     )\n\u001b[1;32m--> 324\u001b[0m \u001b[38;5;28;01mreturn\u001b[39;00m \u001b[43mio_open\u001b[49m\u001b[43m(\u001b[49m\u001b[43mfile\u001b[49m\u001b[43m,\u001b[49m\u001b[43m \u001b[49m\u001b[38;5;241;43m*\u001b[39;49m\u001b[43margs\u001b[49m\u001b[43m,\u001b[49m\u001b[43m \u001b[49m\u001b[38;5;241;43m*\u001b[39;49m\u001b[38;5;241;43m*\u001b[39;49m\u001b[43mkwargs\u001b[49m\u001b[43m)\u001b[49m\n",
      "\u001b[1;31mFileNotFoundError\u001b[0m: [Errno 2] No such file or directory: 'Traning_Data\\\\traning_data_enron.json'"
     ]
    }
   ],
   "source": [
    "import json\n",
    "from sklearn.model_selection import train_test_split\n",
    "\n",
    "# JSON path\n",
    "json_file_path = 'JSON_Data\\\\enron.json'\n",
    "train_json_file_path = 'Training_Data\\\\traning_data_enron.json'\n",
    "test_json_file_path = 'Test_Data\\\\test_data_enron.json'\n",
    "\n",
    "# 读取JSON文件\n",
    "with open(json_file_path, 'r', encoding='utf-8') as json_file:\n",
    "    data = json.load(json_file)\n",
    "\n",
    "# 划分数据集\n",
    "train_data, test_data = train_test_split(data, test_size=0.3, random_state=42)\n",
    "\n",
    "# 保存训练集\n",
    "with open(train_json_file_path, 'a', encoding='utf-8') as train_file:\n",
    "    json.dump(train_data, train_file, ensure_ascii=False, indent=4)\n",
    "\n",
    "# 保存测试集\n",
    "with open(test_json_file_path, 'a', encoding='utf-8') as test_file:\n",
    "    json.dump(test_data, test_file, ensure_ascii=False, indent=4)\n",
    "\n",
    "print(f\"Data has been split to : Traning set({train_json_file_path})，Test set({test_json_file_path})\")\n"
   ]
  },
  {
   "cell_type": "code",
   "execution_count": null,
   "id": "bf0d6c9e-5745-4f78-a8ff-9c265607518e",
   "metadata": {},
   "outputs": [],
   "source": []
  }
 ],
 "metadata": {
  "kernelspec": {
   "display_name": "Python 3 (ipykernel)",
   "language": "python",
   "name": "python3"
  },
  "language_info": {
   "codemirror_mode": {
    "name": "ipython",
    "version": 3
   },
   "file_extension": ".py",
   "mimetype": "text/x-python",
   "name": "python",
   "nbconvert_exporter": "python",
   "pygments_lexer": "ipython3",
   "version": "3.11.9"
  }
 },
 "nbformat": 4,
 "nbformat_minor": 5
}
